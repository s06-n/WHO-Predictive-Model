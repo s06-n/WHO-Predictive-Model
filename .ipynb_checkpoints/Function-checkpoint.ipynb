{
 "cells": [
  {
   "cell_type": "markdown",
   "id": "8ffd2d51-7ddf-4a06-8cf6-736cc349dc53",
   "metadata": {},
   "source": [
    "## Function"
   ]
  },
  {
   "cell_type": "markdown",
   "id": "c43c381d-220a-4df2-8380-660914404a15",
   "metadata": {},
   "source": [
    "This file contains the function that predicts life expectancy based on user input."
   ]
  },
  {
   "cell_type": "code",
   "execution_count": 27,
   "id": "b7b8df63-dae0-43ba-b9f9-8c5ac479f44b",
   "metadata": {
    "tags": []
   },
   "outputs": [],
   "source": [
    "#Importing the four main libraries\n",
    "import numpy as np # for maths\n",
    "import seaborn as sns # to augment matplotlib/visuals\n",
    "import matplotlib.pyplot as plt # visuals\n",
    "import pandas as pd # data\n",
    "import joblib # to load scaler\n",
    "\n",
    "# Scaling\n",
    "from sklearn.preprocessing import RobustScaler\n"
   ]
  },
  {
   "cell_type": "code",
   "execution_count": 29,
   "id": "f02bea09-c4d8-4952-a996-8dab3c402e6d",
   "metadata": {
    "tags": []
   },
   "outputs": [],
   "source": [
    "# Import scaler - fitted on the training data\n",
    "scaler = joblib.load('robust_scaler.pkl')"
   ]
  },
  {
   "cell_type": "code",
   "execution_count": 31,
   "id": "cb1ac472-ba48-49c6-a9ab-d871a89f213a",
   "metadata": {
    "tags": []
   },
   "outputs": [],
   "source": [
    "# Read in the data - to compare results if available\n",
    "df = pd.read_csv('Life Expectancy Data.csv')"
   ]
  },
  {
   "cell_type": "code",
   "execution_count": 33,
   "id": "4b1c6a92-c0cb-4601-93cc-765e187eeaef",
   "metadata": {
    "tags": []
   },
   "outputs": [],
   "source": [
    "# Feature columns for sensitive data\n",
    "feature_cols_sens = ['const', 'Region_Asia',\n",
    "       'Region_Central America and Caribbean', 'Region_European Union',\n",
    "       'Region_Middle East', 'Region_North America', 'Region_Oceania',\n",
    "       'Region_Rest of Europe', 'Region_South America', 'Under_five_deaths',\n",
    "       'Adult_mortality', 'Hepatitis_B', 'GDP_per_capita',\n",
    "        'Schooling', 'Economy_status_Developed']"
   ]
  },
  {
   "cell_type": "code",
   "execution_count": 35,
   "id": "da50cd36-595c-4552-b152-6ad8ae6355bf",
   "metadata": {
    "tags": []
   },
   "outputs": [],
   "source": [
    "# Basic feature columns\n",
    "feature_cols = ['const',\n",
    "       'Adult_mortality', 'GDP_per_capita', 'Economy_status_Developed'] "
   ]
  },
  {
   "cell_type": "code",
   "execution_count": 37,
   "id": "c54d6a5e-2828-47ae-9700-1bcedf58a7b4",
   "metadata": {
    "tags": []
   },
   "outputs": [],
   "source": [
    "# Scaling columns\n",
    "scaling_columns = ['Infant_deaths', 'Under_five_deaths', 'Adult_mortality',\n",
    "       'Alcohol_consumption', 'Hepatitis_B', 'Measles', 'BMI', 'Polio',\n",
    "       'Diphtheria', 'Incidents_HIV', 'GDP_per_capita', 'Population_mln',\n",
    "       'Thinness_ten_nineteen_years', 'Thinness_five_nine_years', 'Schooling']"
   ]
  },
  {
   "cell_type": "code",
   "execution_count": 39,
   "id": "5609c5e9-6103-4b54-b683-c90ea4e4f63e",
   "metadata": {
    "tags": []
   },
   "outputs": [],
   "source": [
    "# Results - basic parameters\n",
    "results_basic = pd.read_csv(\"Results_basic.csv\")\n",
    "results_basic = pd.Series(data=results_basic['0'].values, index=results_basic['Unnamed: 0'].values)"
   ]
  },
  {
   "cell_type": "code",
   "execution_count": 41,
   "id": "bd82eff0-3351-436c-824c-c98278fbb851",
   "metadata": {
    "tags": []
   },
   "outputs": [],
   "source": [
    "# Results - sensitive parameters\n",
    "results_sensitive = pd.read_csv(\"Results_sensitive.csv\")\n",
    "results_sensitive = pd.Series(data=results_sensitive['0'].values, index=results_sensitive['Unnamed: 0'].values)"
   ]
  },
  {
   "cell_type": "code",
   "execution_count": 43,
   "id": "3a6e0b3d-e739-4606-85c6-1a456909c13a",
   "metadata": {
    "tags": []
   },
   "outputs": [],
   "source": [
    "# Life Expectancy Model\n",
    "def life_expectancy(features, coeff):\n",
    "    # Lining up features and coefficients\n",
    "    features = features.sort_index()\n",
    "    coeff = coeff.sort_index()\n",
    "    combined = list(zip(features, coeff)) #combine to multiply in the rigt order\n",
    "    # multiplying coefficients with scaled features values \n",
    "    prediction = sum(x * y for x, y in combined)\n",
    "    return round(prediction, 2)"
   ]
  },
  {
   "cell_type": "code",
   "execution_count": 45,
   "id": "e225c858-10b4-40a9-8d04-b64ddc0ebb25",
   "metadata": {
    "tags": []
   },
   "outputs": [],
   "source": [
    "# User Input Function\n",
    "def get_user_input(sensitive):\n",
    "    features = pd.DataFrame(columns=scaling_columns) # creates a features column ready for scaling\n",
    "    features.loc[0] = 0  # row of zeros for scaling\n",
    "    while True: # loop until either all basic and optimised features are inputted\n",
    "        try:\n",
    "            if sensitive == 'y': # optimised model features\n",
    "                Region = f\"Region_{input('What is your region out of the following: Asia, Central America and Caribbean, European Union, Middle East, North America, Oceania, Rest of Europe and South America: ').title()}\"\n",
    "                print(Region)\n",
    "                if Region not in feature_cols_sens:\n",
    "                    raise ValueError(\"Invalid region. Please enter a valid region.\")\n",
    "                features[Region] = 1\n",
    "                features['const'] = 1\n",
    "                features['Under_five_deaths'] = float(input('What is the rate of under five deaths? '))\n",
    "                features['Adult_mortality'] = float(input('What is the rate of adult mortality? '))\n",
    "                features['Hepatitis_B'] = float(input('What is the vaccine rate of hepatitis B? '))\n",
    "                features['GDP_per_capita'] = float(input('What is the GDP per capita? '))\n",
    "                features['Schooling'] = float(input('What is the average schooling? '))\n",
    "                features['Economy_status_Developed'] = float(input('Is the country developed (1 for yes and 0 for no)? '))\n",
    "                break\n",
    "            elif sensitive == 'n': # basic features\n",
    "                features['const'] = 1\n",
    "                features['Adult_mortality'] = float(input('What is the rate of adult mortality? '))\n",
    "                features['GDP_per_capita'] = float(input('What is the GDP per capita? '))\n",
    "                features['Economy_status_Developed'] = float(input('Is the country developed (1 for yes and 0 for no)? '))\n",
    "                break\n",
    "            else:\n",
    "                raise ValueError(\"Invalid input for sensitive. Please enter 'y' or 'n'.\")\n",
    "        except ValueError as e:\n",
    "            print(f\"Input error: {e}. Please try again.\")\n",
    "            sensitive = input('Do you consent to using advance population data, which may include protected data, for a more accurate model? Y/N').lower()\n",
    "    return features"
   ]
  },
  {
   "cell_type": "code",
   "execution_count": 47,
   "id": "5ff459e7-bcc9-4ee2-a871-067748f19c70",
   "metadata": {
    "tags": []
   },
   "outputs": [],
   "source": [
    "# Scale Features function - so right columns are scaled\n",
    "def scale_features(features, scaling_columns):\n",
    "    df_f = features.copy()\n",
    "    df_f[scaling_columns] = scaler.transform(features[scaling_columns])\n",
    "    return df_f"
   ]
  },
  {
   "cell_type": "code",
   "execution_count": 49,
   "id": "917f2b1b-b91a-4f26-8523-b58614a6e27a",
   "metadata": {
    "tags": []
   },
   "outputs": [],
   "source": [
    "# Missing Columns Functions - so all columns are included even if there is no value\n",
    "def add_missing_columns(df_f, feature_cols):\n",
    "    missing_cols = [col for col in feature_cols if col not in df_f.columns]\n",
    "    for col in missing_cols:\n",
    "        df_f[col] = 0\n",
    "    return df_f"
   ]
  },
  {
   "cell_type": "code",
   "execution_count": 61,
   "id": "acd800cf-5f04-44ec-867f-e6301ba2c62b",
   "metadata": {
    "tags": []
   },
   "outputs": [
    {
     "name": "stdin",
     "output_type": "stream",
     "text": [
      "Do you consent to using advance population data, which may include protected data, for a more accurate model? Y/N n\n",
      "What is the rate of adult mortality?  57.9510\n",
      "What is the GDP per capita?  33995\n",
      "Is the country developed (1 for yes and 0 for no)?  1\n"
     ]
    },
    {
     "name": "stdout",
     "output_type": "stream",
     "text": [
      "The average life expectancy for the basic model is: 81.18\n"
     ]
    }
   ],
   "source": [
    "def main():\n",
    "    sensitive = input('Do you consent to using advance population data, which may include protected data, for a more accurate model? Y/N').lower()\n",
    "    \n",
    "    features = get_user_input(sensitive)\n",
    "    \n",
    "    if sensitive == 'y':\n",
    "        df_f = scale_features(features, scaling_columns)\n",
    "        df_f = add_missing_columns(df_f, feature_cols_sens)\n",
    "        df_f = df_f[feature_cols_sens]\n",
    "        df_series = df_f.iloc[0]\n",
    "        print(f'The average life expectancy for the more accurate model is: {life_expectancy(df_series, results_sensitive)}')\n",
    "        \n",
    "    elif sensitive == 'n':\n",
    "        df_f = scale_features(features, scaling_columns)\n",
    "        df_f = add_missing_columns(df_f, feature_cols)\n",
    "        df_f = df_f[feature_cols]\n",
    "        df_series = df_f.iloc[0]\n",
    "        print(f'The average life expectancy for the basic model is: {life_expectancy(df_series, results_basic)}')\n",
    "\n",
    "if __name__ == \"__main__\":\n",
    "    main()"
   ]
  },
  {
   "cell_type": "code",
   "execution_count": 53,
   "id": "cb2a0f8e-2d09-4d36-a1d0-48d4700b1c0f",
   "metadata": {
    "tags": []
   },
   "outputs": [
    {
     "data": {
      "text/html": [
       "<div>\n",
       "<style scoped>\n",
       "    .dataframe tbody tr th:only-of-type {\n",
       "        vertical-align: middle;\n",
       "    }\n",
       "\n",
       "    .dataframe tbody tr th {\n",
       "        vertical-align: top;\n",
       "    }\n",
       "\n",
       "    .dataframe thead th {\n",
       "        text-align: right;\n",
       "    }\n",
       "</style>\n",
       "<table border=\"1\" class=\"dataframe\">\n",
       "  <thead>\n",
       "    <tr style=\"text-align: right;\">\n",
       "      <th></th>\n",
       "      <th>Country</th>\n",
       "      <th>Region</th>\n",
       "      <th>Year</th>\n",
       "      <th>Infant_deaths</th>\n",
       "      <th>Under_five_deaths</th>\n",
       "      <th>Adult_mortality</th>\n",
       "      <th>Alcohol_consumption</th>\n",
       "      <th>Hepatitis_B</th>\n",
       "      <th>Measles</th>\n",
       "      <th>BMI</th>\n",
       "      <th>...</th>\n",
       "      <th>Diphtheria</th>\n",
       "      <th>Incidents_HIV</th>\n",
       "      <th>GDP_per_capita</th>\n",
       "      <th>Population_mln</th>\n",
       "      <th>Thinness_ten_nineteen_years</th>\n",
       "      <th>Thinness_five_nine_years</th>\n",
       "      <th>Schooling</th>\n",
       "      <th>Economy_status_Developed</th>\n",
       "      <th>Economy_status_Developing</th>\n",
       "      <th>Life_expectancy</th>\n",
       "    </tr>\n",
       "  </thead>\n",
       "  <tbody>\n",
       "    <tr>\n",
       "      <th>1</th>\n",
       "      <td>Spain</td>\n",
       "      <td>European Union</td>\n",
       "      <td>2015</td>\n",
       "      <td>2.7</td>\n",
       "      <td>3.3</td>\n",
       "      <td>57.9025</td>\n",
       "      <td>10.35</td>\n",
       "      <td>97</td>\n",
       "      <td>94</td>\n",
       "      <td>26.0</td>\n",
       "      <td>...</td>\n",
       "      <td>97</td>\n",
       "      <td>0.09</td>\n",
       "      <td>25742</td>\n",
       "      <td>46.44</td>\n",
       "      <td>0.6</td>\n",
       "      <td>0.5</td>\n",
       "      <td>9.7</td>\n",
       "      <td>1</td>\n",
       "      <td>0</td>\n",
       "      <td>82.8</td>\n",
       "    </tr>\n",
       "    <tr>\n",
       "      <th>4</th>\n",
       "      <td>Israel</td>\n",
       "      <td>Middle East</td>\n",
       "      <td>2012</td>\n",
       "      <td>3.4</td>\n",
       "      <td>4.3</td>\n",
       "      <td>57.9510</td>\n",
       "      <td>2.89</td>\n",
       "      <td>97</td>\n",
       "      <td>89</td>\n",
       "      <td>27.0</td>\n",
       "      <td>...</td>\n",
       "      <td>94</td>\n",
       "      <td>0.08</td>\n",
       "      <td>33995</td>\n",
       "      <td>7.91</td>\n",
       "      <td>1.2</td>\n",
       "      <td>1.1</td>\n",
       "      <td>12.8</td>\n",
       "      <td>1</td>\n",
       "      <td>0</td>\n",
       "      <td>81.7</td>\n",
       "    </tr>\n",
       "  </tbody>\n",
       "</table>\n",
       "<p>2 rows × 21 columns</p>\n",
       "</div>"
      ],
      "text/plain": [
       "  Country          Region  Year  Infant_deaths  Under_five_deaths  \\\n",
       "1   Spain  European Union  2015            2.7                3.3   \n",
       "4  Israel     Middle East  2012            3.4                4.3   \n",
       "\n",
       "   Adult_mortality  Alcohol_consumption  Hepatitis_B  Measles   BMI  ...  \\\n",
       "1          57.9025                10.35           97       94  26.0  ...   \n",
       "4          57.9510                 2.89           97       89  27.0  ...   \n",
       "\n",
       "   Diphtheria  Incidents_HIV  GDP_per_capita  Population_mln  \\\n",
       "1          97           0.09           25742           46.44   \n",
       "4          94           0.08           33995            7.91   \n",
       "\n",
       "   Thinness_ten_nineteen_years  Thinness_five_nine_years  Schooling  \\\n",
       "1                          0.6                       0.5        9.7   \n",
       "4                          1.2                       1.1       12.8   \n",
       "\n",
       "   Economy_status_Developed  Economy_status_Developing  Life_expectancy  \n",
       "1                         1                          0             82.8  \n",
       "4                         1                          0             81.7  \n",
       "\n",
       "[2 rows x 21 columns]"
      ]
     },
     "execution_count": 53,
     "metadata": {},
     "output_type": "execute_result"
    }
   ],
   "source": [
    "df[df['Economy_status_Developed'] == 1].head(2)"
   ]
  },
  {
   "cell_type": "code",
   "execution_count": null,
   "id": "fe4d4939-b04c-4fc7-9e24-38fd5bc2d2ec",
   "metadata": {},
   "outputs": [],
   "source": []
  }
 ],
 "metadata": {
  "kernelspec": {
   "display_name": "Python 3 (ipykernel)",
   "language": "python",
   "name": "python3"
  },
  "language_info": {
   "codemirror_mode": {
    "name": "ipython",
    "version": 3
   },
   "file_extension": ".py",
   "mimetype": "text/x-python",
   "name": "python",
   "nbconvert_exporter": "python",
   "pygments_lexer": "ipython3",
   "version": "3.11.7"
  }
 },
 "nbformat": 4,
 "nbformat_minor": 5
}
