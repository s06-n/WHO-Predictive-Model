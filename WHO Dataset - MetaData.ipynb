{
 "cells": [
  {
   "cell_type": "markdown",
   "id": "3e5ce51a",
   "metadata": {},
   "source": [
    "|Field|Description|\n",
    "|---:|:---|\n",
    "|Country|Country|\n",
    "|Year|Year|\n",
    "|Status|Developed or Developing status|\n",
    "|Life expectancy|Life Expectancy in age|\n",
    "|Adult Mortality|Adult Mortality Rates of both sexes (probability of dying between 15 and 60 years per 1000 population)|\n",
    "|infant deaths|Number of Infant Deaths per 1000 population|\n",
    "|Alcohol|Alcohol, recorded per capita (15+) consumption (in litres of pure alcohol)|\n",
    "|percentage expenditure|Expenditure on health as a percene of Gross Domestic Product per capita(%)|\n",
    "|Hepatitis B|Hepatitis B (HepB) immunization coverage among 1-year-olds (%)|\n",
    "|Measles|Measles - number of reported cases per 1000 population|\n",
    "|BMI|Average Body Mass Index of entire population|\n",
    "|under-five deaths|Number of under-five deaths per 1000 population|\n",
    "|Polio|Polio (Pol3) immunization coverage among 1-year-olds (%)|\n",
    "|Total expenditure|General government expenditure on health as a percene of total government expenditure (%)|\n",
    "|Diphtheria|Diphtheria tetanus toxoid and pertussis (DTP3) immunization coverage among 1-year-olds (%)|\n",
    "|HIV/AIDS|Deaths per 1 000 live births HIV/AIDS (0-4 years)|\n",
    "|GDP|Gross Domestic Product per capita (in USD)|\n",
    "|Population|Population of the country|\n",
    "|thinness 1-19 years|Prevalence of thinness among children and adolescents for Age 10 to 19 (%)|\n",
    "|thinness 5-9 years|Prevalence of thinness among children for Age 5 to 9(%)|\n",
    "|Income composition of resources|Income composition of resources|\n",
    "|Schooling|Number of years of Schooling(years)|\n"
   ]
  }
 ],
 "metadata": {
  "kernelspec": {
   "display_name": "Python 3 (ipykernel)",
   "language": "python",
   "name": "python3"
  },
  "language_info": {
   "codemirror_mode": {
    "name": "ipython",
    "version": 3
   },
   "file_extension": ".py",
   "mimetype": "text/x-python",
   "name": "python",
   "nbconvert_exporter": "python",
   "pygments_lexer": "ipython3",
   "version": "3.11.7"
  }
 },
 "nbformat": 4,
 "nbformat_minor": 5
}
